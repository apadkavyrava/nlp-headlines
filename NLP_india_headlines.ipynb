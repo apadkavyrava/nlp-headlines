{
 "cells": [
  {
   "cell_type": "code",
   "execution_count": 47,
   "metadata": {},
   "outputs": [
    {
     "name": "stdout",
     "output_type": "stream",
     "text": [
      "   publish_date headline_category  \\\n",
      "0      20010101        sports.wwe   \n",
      "1      20010102         bollywood   \n",
      "2      20010102           unknown   \n",
      "3      20010102           unknown   \n",
      "4      20010102           unknown   \n",
      "\n",
      "                                       headline_text  \n",
      "0  win over cena satisfying but defeating underta...  \n",
      "1                                        Raju Chacha  \n",
      "2  Status quo will not be disturbed at Ayodhya; s...  \n",
      "3                Fissures in Hurriyat over Pak visit  \n",
      "4              America's unwanted heading for India?  \n"
     ]
    },
    {
     "name": "stderr",
     "output_type": "stream",
     "text": [
      "/anaconda3/lib/python3.7/site-packages/sklearn/linear_model/stochastic_gradient.py:152: DeprecationWarning: n_iter parameter is deprecated in 0.19 and will be removed in 0.21. Use max_iter and tol instead.\n",
      "  DeprecationWarning)\n"
     ]
    },
    {
     "data": {
      "text/plain": [
       "0.996"
      ]
     },
     "execution_count": 47,
     "metadata": {},
     "output_type": "execute_result"
    }
   ],
   "source": [
    "import pandas as pd\n",
    "import numpy as np\n",
    "from sklearn.feature_extraction.text import CountVectorizer\n",
    "from sklearn.feature_extraction.text import TfidfTransformer\n",
    "from sklearn.linear_model import SGDClassifier\n",
    "from sklearn.pipeline import Pipeline\n",
    "\n",
    "data = pd.read_csv('india-news-headlines.csv')\n",
    "print(data.head())\n",
    "headline_text = data['headline_text'][:1000]\n",
    "headline_category =data['headline_category'][:1000]\n",
    "headline_test = data['headline_text'][1000:1500]\n",
    "headline_cat_test =data['headline_category'][1000:1500]\n",
    "\n",
    "text_vector = Pipeline([('vect', CountVectorizer()),\n",
    "                        ('tfidf', TfidfTransformer()),\n",
    "                        ('clf-svm', SGDClassifier(loss='hinge',\n",
    "                            penalty='l2',alpha=1e-3, n_iter=5, random_state=42)),])\n",
    "\n",
    "fitted = text_vector.fit(headline_text, headline_category)\n",
    "vector_predicted = text_vector.predict(headline_test)\n",
    "\n",
    "np.mean(vector_predicted  == headline_cat_test)\n"
   ]
  },
  {
   "cell_type": "code",
   "execution_count": null,
   "metadata": {},
   "outputs": [],
   "source": []
  }
 ],
 "metadata": {
  "kernelspec": {
   "display_name": "Python 3",
   "language": "python",
   "name": "python3"
  },
  "language_info": {
   "codemirror_mode": {
    "name": "ipython",
    "version": 3
   },
   "file_extension": ".py",
   "mimetype": "text/x-python",
   "name": "python",
   "nbconvert_exporter": "python",
   "pygments_lexer": "ipython3",
   "version": "3.7.1"
  }
 },
 "nbformat": 4,
 "nbformat_minor": 2
}
